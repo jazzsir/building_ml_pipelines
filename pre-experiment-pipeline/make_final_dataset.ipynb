{
 "cells": [
  {
   "cell_type": "markdown",
   "metadata": {},
   "source": [
    "source: https://www.kaggle.com/cfpb/us-consumer-finance-complaints"
   ]
  },
  {
   "cell_type": "code",
   "execution_count": 29,
   "metadata": {},
   "outputs": [],
   "source": [
    "import pandas as pd\n",
    "import os\n",
    "import sys"
   ]
  },
  {
   "cell_type": "code",
   "execution_count": 30,
   "metadata": {},
   "outputs": [],
   "source": [
    "nb_dir = os.path.split(os.getcwd())[0]\n",
    "if nb_dir not in sys.path:\n",
    "    sys.path.append(nb_dir)"
   ]
  },
  {
   "cell_type": "code",
   "execution_count": 31,
   "metadata": {},
   "outputs": [],
   "source": [
    "feature_cols=[\"product\", \"sub_product\", \"issue\", \"sub_issue\", \"state\", \"zip_code\", \"company\", \"company_response\", \"timely_response\", \"consumer_disputed\", \"consumer_complaint_narrative\"]\n"
   ]
  },
  {
   "cell_type": "code",
   "execution_count": 32,
   "metadata": {},
   "outputs": [],
   "source": [
    "df = pd.read_csv(\"../data/consumer_complaints_with_narrative.csv\", usecols=feature_cols)"
   ]
  },
  {
   "cell_type": "code",
   "execution_count": 33,
   "metadata": {},
   "outputs": [
    {
     "data": {
      "text/html": [
       "<div>\n",
       "<style scoped>\n",
       "    .dataframe tbody tr th:only-of-type {\n",
       "        vertical-align: middle;\n",
       "    }\n",
       "\n",
       "    .dataframe tbody tr th {\n",
       "        vertical-align: top;\n",
       "    }\n",
       "\n",
       "    .dataframe thead th {\n",
       "        text-align: right;\n",
       "    }\n",
       "</style>\n",
       "<table border=\"1\" class=\"dataframe\">\n",
       "  <thead>\n",
       "    <tr style=\"text-align: right;\">\n",
       "      <th></th>\n",
       "      <th>product</th>\n",
       "      <th>sub_product</th>\n",
       "      <th>issue</th>\n",
       "      <th>sub_issue</th>\n",
       "      <th>consumer_complaint_narrative</th>\n",
       "      <th>company</th>\n",
       "      <th>state</th>\n",
       "      <th>zip_code</th>\n",
       "      <th>company_response</th>\n",
       "      <th>timely_response</th>\n",
       "      <th>consumer_disputed</th>\n",
       "    </tr>\n",
       "  </thead>\n",
       "  <tbody>\n",
       "    <tr>\n",
       "      <th>0</th>\n",
       "      <td>Debt collection</td>\n",
       "      <td>I do not know</td>\n",
       "      <td>Disclosure verification of debt</td>\n",
       "      <td>Right to dispute notice not received</td>\n",
       "      <td>I was denied employment because of a judgment ...</td>\n",
       "      <td>Encore Capital Group</td>\n",
       "      <td>NY</td>\n",
       "      <td>113XX</td>\n",
       "      <td>Closed with explanation</td>\n",
       "      <td>Yes</td>\n",
       "      <td>0</td>\n",
       "    </tr>\n",
       "    <tr>\n",
       "      <th>1</th>\n",
       "      <td>Credit reporting</td>\n",
       "      <td>NaN</td>\n",
       "      <td>Improper use of my credit report</td>\n",
       "      <td>Report improperly shared by CRC</td>\n",
       "      <td>I have a credit card through XXXX XXXX and XXX...</td>\n",
       "      <td>Experian</td>\n",
       "      <td>IL</td>\n",
       "      <td>606XX</td>\n",
       "      <td>Closed with non-monetary relief</td>\n",
       "      <td>Yes</td>\n",
       "      <td>0</td>\n",
       "    </tr>\n",
       "    <tr>\n",
       "      <th>2</th>\n",
       "      <td>Debt collection</td>\n",
       "      <td>I do not know</td>\n",
       "      <td>Cont'd attempts collect debt not owed</td>\n",
       "      <td>Debt is not mine</td>\n",
       "      <td>Almost daily phone calls from Stellar Recovery...</td>\n",
       "      <td>Stellar Recovery Inc.</td>\n",
       "      <td>MI</td>\n",
       "      <td>480XX</td>\n",
       "      <td>Closed with explanation</td>\n",
       "      <td>Yes</td>\n",
       "      <td>1</td>\n",
       "    </tr>\n",
       "    <tr>\n",
       "      <th>3</th>\n",
       "      <td>Mortgage</td>\n",
       "      <td>Conventional fixed mortgage</td>\n",
       "      <td>Loan servicing, payments, escrow account</td>\n",
       "      <td>NaN</td>\n",
       "      <td>I submitted my monthly mortgage payment to Pri...</td>\n",
       "      <td>Primary Residential Mortgage</td>\n",
       "      <td>CT</td>\n",
       "      <td>066XX</td>\n",
       "      <td>Closed with monetary relief</td>\n",
       "      <td>Yes</td>\n",
       "      <td>0</td>\n",
       "    </tr>\n",
       "    <tr>\n",
       "      <th>4</th>\n",
       "      <td>Student loan</td>\n",
       "      <td>Non-federal student loan</td>\n",
       "      <td>Dealing with my lender or servicer</td>\n",
       "      <td>Received bad information about my loan</td>\n",
       "      <td>I contacted America Education Services in XX/X...</td>\n",
       "      <td>AES/PHEAA</td>\n",
       "      <td>FL</td>\n",
       "      <td>321XX</td>\n",
       "      <td>Closed with explanation</td>\n",
       "      <td>Yes</td>\n",
       "      <td>1</td>\n",
       "    </tr>\n",
       "  </tbody>\n",
       "</table>\n",
       "</div>"
      ],
      "text/plain": [
       "            product                  sub_product  \\\n",
       "0   Debt collection                I do not know   \n",
       "1  Credit reporting                          NaN   \n",
       "2   Debt collection                I do not know   \n",
       "3          Mortgage  Conventional fixed mortgage   \n",
       "4      Student loan     Non-federal student loan   \n",
       "\n",
       "                                      issue  \\\n",
       "0           Disclosure verification of debt   \n",
       "1          Improper use of my credit report   \n",
       "2     Cont'd attempts collect debt not owed   \n",
       "3  Loan servicing, payments, escrow account   \n",
       "4        Dealing with my lender or servicer   \n",
       "\n",
       "                                sub_issue  \\\n",
       "0    Right to dispute notice not received   \n",
       "1         Report improperly shared by CRC   \n",
       "2                        Debt is not mine   \n",
       "3                                     NaN   \n",
       "4  Received bad information about my loan   \n",
       "\n",
       "                        consumer_complaint_narrative  \\\n",
       "0  I was denied employment because of a judgment ...   \n",
       "1  I have a credit card through XXXX XXXX and XXX...   \n",
       "2  Almost daily phone calls from Stellar Recovery...   \n",
       "3  I submitted my monthly mortgage payment to Pri...   \n",
       "4  I contacted America Education Services in XX/X...   \n",
       "\n",
       "                        company state zip_code  \\\n",
       "0          Encore Capital Group    NY    113XX   \n",
       "1                      Experian    IL    606XX   \n",
       "2         Stellar Recovery Inc.    MI    480XX   \n",
       "3  Primary Residential Mortgage    CT    066XX   \n",
       "4                     AES/PHEAA    FL    321XX   \n",
       "\n",
       "                  company_response timely_response  consumer_disputed  \n",
       "0          Closed with explanation             Yes                  0  \n",
       "1  Closed with non-monetary relief             Yes                  0  \n",
       "2          Closed with explanation             Yes                  1  \n",
       "3      Closed with monetary relief             Yes                  0  \n",
       "4          Closed with explanation             Yes                  1  "
      ]
     },
     "execution_count": 33,
     "metadata": {},
     "output_type": "execute_result"
    }
   ],
   "source": [
    "df.head()"
   ]
  },
  {
   "cell_type": "code",
   "execution_count": 34,
   "metadata": {},
   "outputs": [],
   "source": [
    "df.columns = df.columns.str.replace(' ','_').str.replace('?', '')"
   ]
  },
  {
   "cell_type": "code",
   "execution_count": 35,
   "metadata": {},
   "outputs": [],
   "source": [
    "df = df.rename({'zipcode': 'zip_code', 'company_response_to_consumer': 'company_response'}, axis=1)"
   ]
  },
  {
   "cell_type": "code",
   "execution_count": 36,
   "metadata": {},
   "outputs": [
    {
     "data": {
      "text/html": [
       "<div>\n",
       "<style scoped>\n",
       "    .dataframe tbody tr th:only-of-type {\n",
       "        vertical-align: middle;\n",
       "    }\n",
       "\n",
       "    .dataframe tbody tr th {\n",
       "        vertical-align: top;\n",
       "    }\n",
       "\n",
       "    .dataframe thead th {\n",
       "        text-align: right;\n",
       "    }\n",
       "</style>\n",
       "<table border=\"1\" class=\"dataframe\">\n",
       "  <thead>\n",
       "    <tr style=\"text-align: right;\">\n",
       "      <th></th>\n",
       "      <th>product</th>\n",
       "      <th>sub_product</th>\n",
       "      <th>issue</th>\n",
       "      <th>sub_issue</th>\n",
       "      <th>consumer_complaint_narrative</th>\n",
       "      <th>company</th>\n",
       "      <th>state</th>\n",
       "      <th>zip_code</th>\n",
       "      <th>company_response</th>\n",
       "      <th>timely_response</th>\n",
       "      <th>consumer_disputed</th>\n",
       "    </tr>\n",
       "  </thead>\n",
       "  <tbody>\n",
       "    <tr>\n",
       "      <th>0</th>\n",
       "      <td>Debt collection</td>\n",
       "      <td>I do not know</td>\n",
       "      <td>Disclosure verification of debt</td>\n",
       "      <td>Right to dispute notice not received</td>\n",
       "      <td>I was denied employment because of a judgment ...</td>\n",
       "      <td>Encore Capital Group</td>\n",
       "      <td>NY</td>\n",
       "      <td>113XX</td>\n",
       "      <td>Closed with explanation</td>\n",
       "      <td>Yes</td>\n",
       "      <td>0</td>\n",
       "    </tr>\n",
       "    <tr>\n",
       "      <th>1</th>\n",
       "      <td>Credit reporting</td>\n",
       "      <td>NaN</td>\n",
       "      <td>Improper use of my credit report</td>\n",
       "      <td>Report improperly shared by CRC</td>\n",
       "      <td>I have a credit card through XXXX XXXX and XXX...</td>\n",
       "      <td>Experian</td>\n",
       "      <td>IL</td>\n",
       "      <td>606XX</td>\n",
       "      <td>Closed with non-monetary relief</td>\n",
       "      <td>Yes</td>\n",
       "      <td>0</td>\n",
       "    </tr>\n",
       "    <tr>\n",
       "      <th>2</th>\n",
       "      <td>Debt collection</td>\n",
       "      <td>I do not know</td>\n",
       "      <td>Cont'd attempts collect debt not owed</td>\n",
       "      <td>Debt is not mine</td>\n",
       "      <td>Almost daily phone calls from Stellar Recovery...</td>\n",
       "      <td>Stellar Recovery Inc.</td>\n",
       "      <td>MI</td>\n",
       "      <td>480XX</td>\n",
       "      <td>Closed with explanation</td>\n",
       "      <td>Yes</td>\n",
       "      <td>1</td>\n",
       "    </tr>\n",
       "    <tr>\n",
       "      <th>3</th>\n",
       "      <td>Mortgage</td>\n",
       "      <td>Conventional fixed mortgage</td>\n",
       "      <td>Loan servicing, payments, escrow account</td>\n",
       "      <td>NaN</td>\n",
       "      <td>I submitted my monthly mortgage payment to Pri...</td>\n",
       "      <td>Primary Residential Mortgage</td>\n",
       "      <td>CT</td>\n",
       "      <td>066XX</td>\n",
       "      <td>Closed with monetary relief</td>\n",
       "      <td>Yes</td>\n",
       "      <td>0</td>\n",
       "    </tr>\n",
       "    <tr>\n",
       "      <th>4</th>\n",
       "      <td>Student loan</td>\n",
       "      <td>Non-federal student loan</td>\n",
       "      <td>Dealing with my lender or servicer</td>\n",
       "      <td>Received bad information about my loan</td>\n",
       "      <td>I contacted America Education Services in XX/X...</td>\n",
       "      <td>AES/PHEAA</td>\n",
       "      <td>FL</td>\n",
       "      <td>321XX</td>\n",
       "      <td>Closed with explanation</td>\n",
       "      <td>Yes</td>\n",
       "      <td>1</td>\n",
       "    </tr>\n",
       "  </tbody>\n",
       "</table>\n",
       "</div>"
      ],
      "text/plain": [
       "            product                  sub_product  \\\n",
       "0   Debt collection                I do not know   \n",
       "1  Credit reporting                          NaN   \n",
       "2   Debt collection                I do not know   \n",
       "3          Mortgage  Conventional fixed mortgage   \n",
       "4      Student loan     Non-federal student loan   \n",
       "\n",
       "                                      issue  \\\n",
       "0           Disclosure verification of debt   \n",
       "1          Improper use of my credit report   \n",
       "2     Cont'd attempts collect debt not owed   \n",
       "3  Loan servicing, payments, escrow account   \n",
       "4        Dealing with my lender or servicer   \n",
       "\n",
       "                                sub_issue  \\\n",
       "0    Right to dispute notice not received   \n",
       "1         Report improperly shared by CRC   \n",
       "2                        Debt is not mine   \n",
       "3                                     NaN   \n",
       "4  Received bad information about my loan   \n",
       "\n",
       "                        consumer_complaint_narrative  \\\n",
       "0  I was denied employment because of a judgment ...   \n",
       "1  I have a credit card through XXXX XXXX and XXX...   \n",
       "2  Almost daily phone calls from Stellar Recovery...   \n",
       "3  I submitted my monthly mortgage payment to Pri...   \n",
       "4  I contacted America Education Services in XX/X...   \n",
       "\n",
       "                        company state zip_code  \\\n",
       "0          Encore Capital Group    NY    113XX   \n",
       "1                      Experian    IL    606XX   \n",
       "2         Stellar Recovery Inc.    MI    480XX   \n",
       "3  Primary Residential Mortgage    CT    066XX   \n",
       "4                     AES/PHEAA    FL    321XX   \n",
       "\n",
       "                  company_response timely_response  consumer_disputed  \n",
       "0          Closed with explanation             Yes                  0  \n",
       "1  Closed with non-monetary relief             Yes                  0  \n",
       "2          Closed with explanation             Yes                  1  \n",
       "3      Closed with monetary relief             Yes                  0  \n",
       "4          Closed with explanation             Yes                  1  "
      ]
     },
     "execution_count": 36,
     "metadata": {},
     "output_type": "execute_result"
    }
   ],
   "source": [
    "df.head()"
   ]
  },
  {
   "cell_type": "code",
   "execution_count": 37,
   "metadata": {},
   "outputs": [
    {
     "data": {
      "text/plain": [
       "Index(['product', 'sub_product', 'issue', 'sub_issue',\n",
       "       'consumer_complaint_narrative', 'company', 'state', 'zip_code',\n",
       "       'company_response', 'timely_response', 'consumer_disputed'],\n",
       "      dtype='object')"
      ]
     },
     "execution_count": 37,
     "metadata": {},
     "output_type": "execute_result"
    }
   ],
   "source": [
    "df.columns"
   ]
  },
  {
   "cell_type": "code",
   "execution_count": 38,
   "metadata": {},
   "outputs": [
    {
     "data": {
      "text/plain": [
       "66799"
      ]
     },
     "execution_count": 38,
     "metadata": {},
     "output_type": "execute_result"
    }
   ],
   "source": [
    "len(df)"
   ]
  },
  {
   "cell_type": "code",
   "execution_count": 39,
   "metadata": {},
   "outputs": [
    {
     "data": {
      "text/plain": [
       "66799"
      ]
     },
     "execution_count": 39,
     "metadata": {},
     "output_type": "execute_result"
    }
   ],
   "source": [
    "df['consumer_complaint_narrative'].notnull().sum()"
   ]
  },
  {
   "cell_type": "code",
   "execution_count": 40,
   "metadata": {},
   "outputs": [],
   "source": [
    "df = df[df['consumer_complaint_narrative'].notnull()]"
   ]
  },
  {
   "cell_type": "code",
   "execution_count": 41,
   "metadata": {},
   "outputs": [],
   "source": [
    "df['c'] = df['consumer_disputed'].map({'Yes': 1, 'No': 0})\n",
    "df = df.drop('consumer_disputed', axis=1)\n",
    "df = df.rename(columns={\"c\": \"consumer_disputed\"})"
   ]
  },
  {
   "cell_type": "code",
   "execution_count": 42,
   "metadata": {},
   "outputs": [
    {
     "data": {
      "text/plain": [
       "Series([], Name: consumer_disputed, dtype: int64)"
      ]
     },
     "execution_count": 42,
     "metadata": {},
     "output_type": "execute_result"
    }
   ],
   "source": [
    "df['consumer_disputed'].value_counts()"
   ]
  },
  {
   "cell_type": "code",
   "execution_count": 43,
   "metadata": {},
   "outputs": [],
   "source": [
    "df = df.sample(frac=1, replace=False).reset_index(drop=True)"
   ]
  },
  {
   "cell_type": "code",
   "execution_count": 44,
   "metadata": {},
   "outputs": [],
   "source": [
    "df = df.replace(r'\\s', ' ', regex=True)"
   ]
  },
  {
   "cell_type": "code",
   "execution_count": 45,
   "metadata": {},
   "outputs": [],
   "source": [
    "df.to_csv('../data/consumer_complaints_with_narrative.csv', index=False)"
   ]
  },
  {
   "cell_type": "code",
   "execution_count": null,
   "metadata": {},
   "outputs": [],
   "source": []
  }
 ],
 "metadata": {
  "kernelspec": {
   "display_name": "Python 3",
   "language": "python",
   "name": "python3"
  },
  "language_info": {
   "codemirror_mode": {
    "name": "ipython",
    "version": 3
   },
   "file_extension": ".py",
   "mimetype": "text/x-python",
   "name": "python",
   "nbconvert_exporter": "python",
   "pygments_lexer": "ipython3",
   "version": "3.6.9"
  }
 },
 "nbformat": 4,
 "nbformat_minor": 4
}
